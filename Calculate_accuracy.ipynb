{
 "cells": [
  {
   "cell_type": "markdown",
   "id": "imposed-numbers",
   "metadata": {},
   "source": [
    "Urutan :\n",
    "<ol>\n",
    "<li>Jika sudah pernah jalankan script di nomer 2, hapus dulu file log_demo_result.txt kalau ingin test dengan model berbeda, karena hasil prediksi nantinya jadi diappend ke file lama</li>\n",
    "<li>Jalankan Script di Terminal</li>\n",
    "    python3 demo.py --Transform TPS --FeatureExtraction ResNet --SequenceModeling BiLSTM --Prediction CTC --image_folder test_image/ --saved_model saved_models/path_to_trained_model/best_accuracy.pth (atau best_norm_ED.pth)\n",
    "<li>File hasil prediksi akan tersimpan di file log_demo_result.txt</li>\n",
    "<li>Jalankan notebook ini</li>\n",
    "</ol>"
   ]
  },
  {
   "cell_type": "code",
   "execution_count": 1,
   "id": "seasonal-brief",
   "metadata": {},
   "outputs": [],
   "source": [
    "import numpy as np\n",
    "import pandas as pd"
   ]
  },
  {
   "cell_type": "code",
   "execution_count": 2,
   "id": "later-administrator",
   "metadata": {},
   "outputs": [],
   "source": [
    "with open('test_label_v2.txt', 'r') as f:\n",
    "    real = f.read()"
   ]
  },
  {
   "cell_type": "code",
   "execution_count": 3,
   "id": "given-nutrition",
   "metadata": {},
   "outputs": [],
   "source": [
    "real = real.split('\\n')"
   ]
  },
  {
   "cell_type": "code",
   "execution_count": 4,
   "id": "western-condition",
   "metadata": {},
   "outputs": [],
   "source": [
    "with open('log_demo_result.txt', 'r') as f:\n",
    "    pred = f.read()\n",
    "\n",
    "pred = pred.split('\\n')[3:-1]"
   ]
  },
  {
   "cell_type": "code",
   "execution_count": 5,
   "id": "otherwise-bikini",
   "metadata": {},
   "outputs": [],
   "source": [
    "preds = []\n",
    "\n",
    "for p in pred:\n",
    "    plate = p.split('\\t')[1].strip().upper()\n",
    "    preds.append(plate)"
   ]
  },
  {
   "cell_type": "code",
   "execution_count": 6,
   "id": "settled-immunology",
   "metadata": {},
   "outputs": [],
   "source": [
    "results = []\n",
    "\n",
    "for i in range(100):\n",
    "    test = real[i]\n",
    "    predict = preds[i]\n",
    "    true_len = len(real[i])\n",
    "    pred_len = len(preds[i])\n",
    "    \n",
    "    if true_len < 9:\n",
    "        test += \"*\" * (9 - true_len)\n",
    "        \n",
    "    if pred_len < 9:\n",
    "        predict += \"*\" * (9 - pred_len)\n",
    "\n",
    "    correct = 0\n",
    "    for j in range(9):\n",
    "        if test[j] == predict[j]:\n",
    "            correct += 1\n",
    "    \n",
    "    results.append(correct / 9)"
   ]
  },
  {
   "cell_type": "code",
   "execution_count": 7,
   "id": "enormous-wonder",
   "metadata": {},
   "outputs": [
    {
     "data": {
      "text/plain": [
       "0.9622222222222223"
      ]
     },
     "execution_count": 7,
     "metadata": {},
     "output_type": "execute_result"
    }
   ],
   "source": [
    "np.sum(results) / len(results)"
   ]
  },
  {
   "cell_type": "code",
   "execution_count": null,
   "id": "varying-exploration",
   "metadata": {},
   "outputs": [],
   "source": []
  }
 ],
 "metadata": {
  "kernelspec": {
   "display_name": "Python 3",
   "language": "python",
   "name": "python3"
  },
  "language_info": {
   "codemirror_mode": {
    "name": "ipython",
    "version": 3
   },
   "file_extension": ".py",
   "mimetype": "text/x-python",
   "name": "python",
   "nbconvert_exporter": "python",
   "pygments_lexer": "ipython3",
   "version": "3.6.9"
  }
 },
 "nbformat": 4,
 "nbformat_minor": 5
}
